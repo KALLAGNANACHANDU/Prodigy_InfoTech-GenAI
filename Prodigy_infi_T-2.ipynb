import string

text_data = "This is a sample text for Markov chain text generation. It contains punctuation!"
lowercase_text = text_data.lower()

translator = str.maketrans('', '', string.punctuation)
cleaned_text = lowercase_text.translate(translator)

processed_text = list(cleaned_text)

print(processed_text[:20])

def build_markov_model(text_data, order):
    model = {}
    for i in range(len(text_data) - order):
        sequence = tuple(text_data[i:i+order])
        next_char = text_data[i+order]
        if sequence not in model:
            model[sequence] = {}
        if next_char not in model[sequence]:
            model[sequence][next_char] = 0
        model[sequence][next_char] += 1

    for sequence, next_chars in model.items():
        total_count = sum(next_chars.values())
        for next_char, count in next_chars.items():
            model[sequence][next_char] = count / total_count

    return model

markov_model = build_markov_model(processed_text, 1)
display(markov_model)

import random

def generate_text(markov_model, seed_sequence, length):
    generated_text = list(seed_sequence)

    while len(generated_text) < length:
        current_sequence = tuple(generated_text[-len(seed_sequence):])

        if current_sequence in markov_model:
            next_chars = markov_model[current_sequence]
            choices = list(next_chars.keys())
            weights = list(next_chars.values())
            next_char = random.choices(choices, weights=weights, k=1)[0]
            generated_text.append(next_char)
        else:
            break

    return "".join(generated_text)


seed = ('t',)
generated = generate_text(markov_model, seed, 50)
print(generated)

['t', 'h', 'i', 's', ' ', 'i', 's', ' ', 'a', ' ', 's', 'a', 'm', 'p', 'l', 'e', ' ', 't', 'e', 'x']

{('t',): {'h': 0.1, 'e': 0.2, ' ': 0.3, 'i': 0.2, 'a': 0.1, 'u': 0.1},
 ('h',): {'i': 0.5, 'a': 0.5},
 ('i',): {'s': 0.2857142857142857,
  'n': 0.2857142857142857,
  'o': 0.2857142857142857,
  't': 0.14285714285714285},
 ('s',): {' ': 0.75, 'a': 0.25},
 (' ',): {'i': 0.16666666666666666,
  'a': 0.08333333333333333,
  's': 0.08333333333333333,
  't': 0.16666666666666666,
  'f': 0.08333333333333333,
  'm': 0.08333333333333333,
  'c': 0.16666666666666666,
  'g': 0.08333333333333333,
  'p': 0.08333333333333333},
 ('a',): {' ': 0.14285714285714285,
  'm': 0.14285714285714285,
  'r': 0.14285714285714285,
  'i': 0.2857142857142857,
  't': 0.2857142857142857},
 ('m',): {'p': 0.5, 'a': 0.5},
 ('p',): {'l': 0.5, 'u': 0.5},
 ('l',): {'e': 1.0},
 ('e',): {' ': 0.2, 'x': 0.4, 'n': 0.2, 'r': 0.2},
 ('x',): {'t': 1.0},
 ('f',): {'o': 1.0},
 ('o',): {'r': 0.2, 'v': 0.2, 'n': 0.6},
 ('r',): {' ': 0.3333333333333333,
  'k': 0.3333333333333333,
  'a': 0.3333333333333333},
 ('k',): {'o': 1.0},
 ('v',): {' ': 1.0},
 ('c',): {'h': 0.3333333333333333,
  'o': 0.3333333333333333,
  't': 0.3333333333333333},
 ('n',): {' ': 0.3333333333333333,
  'e': 0.16666666666666666,
  't': 0.16666666666666666,
  's': 0.16666666666666666,
  'c': 0.16666666666666666},
 ('g',): {'e': 1.0},
 ('u',): {'n': 0.5, 'a': 0.5}}

tha font mpuaratisa s is ctun cha chin tens a aion
